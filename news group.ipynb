{
 "cells": [
  {
   "cell_type": "markdown",
   "metadata": {},
   "source": [
    "# Problem Statement:\n",
    "Many news aggregators face the challenge of common news stories published from many\n",
    "providers. The importance of grouping based on similarity is very much important, so it can save\n",
    "end users’ reading time. This is a more sort of clustering problem where similar articles should\n",
    "be in the same group."
   ]
  },
  {
   "cell_type": "markdown",
   "metadata": {},
   "source": [
    "### IMPORT LIBRARIES"
   ]
  },
  {
   "cell_type": "code",
   "execution_count": 1,
   "metadata": {},
   "outputs": [],
   "source": [
    "import pandas as pd\n",
    "import re \n",
    "\n",
    "import nltk \n",
    "from nltk.tokenize import RegexpTokenizer\n",
    "from collections import Counter \n",
    "from nltk.tokenize import word_tokenize\n",
    "from nltk.stem import WordNetLemmatizer\n",
    "from nltk.corpus import stopwords\n",
    "\n",
    "import numpy as np \n",
    "import matplotlib.pyplot as plt\n",
    "%matplotlib inline\n",
    "\n",
    "from sklearn.feature_extraction.text import TfidfVectorizer, TfidfTransformer\n",
    "from sklearn.model_selection import train_test_split\n",
    "from sklearn.naive_bayes import MultinomialNB\n",
    "from sklearn.tree import DecisionTreeClassifier\n",
    "from sklearn.metrics  import classification_report\n",
    "from sklearn import metrics\n",
    "import time"
   ]
  },
  {
   "cell_type": "markdown",
   "metadata": {},
   "source": [
    "### LOAD DATASET"
   ]
  },
  {
   "cell_type": "code",
   "execution_count": 2,
   "metadata": {},
   "outputs": [],
   "source": [
    "news_dataset=pd.read_csv(\"uci-news-aggregator.csv\")"
   ]
  },
  {
   "cell_type": "code",
   "execution_count": 3,
   "metadata": {},
   "outputs": [
    {
     "data": {
      "text/html": [
       "<div>\n",
       "<style scoped>\n",
       "    .dataframe tbody tr th:only-of-type {\n",
       "        vertical-align: middle;\n",
       "    }\n",
       "\n",
       "    .dataframe tbody tr th {\n",
       "        vertical-align: top;\n",
       "    }\n",
       "\n",
       "    .dataframe thead th {\n",
       "        text-align: right;\n",
       "    }\n",
       "</style>\n",
       "<table border=\"1\" class=\"dataframe\">\n",
       "  <thead>\n",
       "    <tr style=\"text-align: right;\">\n",
       "      <th></th>\n",
       "      <th>ID</th>\n",
       "      <th>TITLE</th>\n",
       "      <th>URL</th>\n",
       "      <th>PUBLISHER</th>\n",
       "      <th>CATEGORY</th>\n",
       "      <th>STORY</th>\n",
       "      <th>HOSTNAME</th>\n",
       "      <th>TIMESTAMP</th>\n",
       "    </tr>\n",
       "  </thead>\n",
       "  <tbody>\n",
       "    <tr>\n",
       "      <th>0</th>\n",
       "      <td>1</td>\n",
       "      <td>Fed official says weak data caused by weather,...</td>\n",
       "      <td>http://www.latimes.com/business/money/la-fi-mo...</td>\n",
       "      <td>Los Angeles Times</td>\n",
       "      <td>b</td>\n",
       "      <td>ddUyU0VZz0BRneMioxUPQVP6sIxvM</td>\n",
       "      <td>www.latimes.com</td>\n",
       "      <td>1394470370698</td>\n",
       "    </tr>\n",
       "    <tr>\n",
       "      <th>1</th>\n",
       "      <td>2</td>\n",
       "      <td>Fed's Charles Plosser sees high bar for change...</td>\n",
       "      <td>http://www.livemint.com/Politics/H2EvwJSK2VE6O...</td>\n",
       "      <td>Livemint</td>\n",
       "      <td>b</td>\n",
       "      <td>ddUyU0VZz0BRneMioxUPQVP6sIxvM</td>\n",
       "      <td>www.livemint.com</td>\n",
       "      <td>1394470371207</td>\n",
       "    </tr>\n",
       "    <tr>\n",
       "      <th>2</th>\n",
       "      <td>3</td>\n",
       "      <td>US open: Stocks fall after Fed official hints ...</td>\n",
       "      <td>http://www.ifamagazine.com/news/us-open-stocks...</td>\n",
       "      <td>IFA Magazine</td>\n",
       "      <td>b</td>\n",
       "      <td>ddUyU0VZz0BRneMioxUPQVP6sIxvM</td>\n",
       "      <td>www.ifamagazine.com</td>\n",
       "      <td>1394470371550</td>\n",
       "    </tr>\n",
       "    <tr>\n",
       "      <th>3</th>\n",
       "      <td>4</td>\n",
       "      <td>Fed risks falling 'behind the curve', Charles ...</td>\n",
       "      <td>http://www.ifamagazine.com/news/fed-risks-fall...</td>\n",
       "      <td>IFA Magazine</td>\n",
       "      <td>b</td>\n",
       "      <td>ddUyU0VZz0BRneMioxUPQVP6sIxvM</td>\n",
       "      <td>www.ifamagazine.com</td>\n",
       "      <td>1394470371793</td>\n",
       "    </tr>\n",
       "    <tr>\n",
       "      <th>4</th>\n",
       "      <td>5</td>\n",
       "      <td>Fed's Plosser: Nasty Weather Has Curbed Job Gr...</td>\n",
       "      <td>http://www.moneynews.com/Economy/federal-reser...</td>\n",
       "      <td>Moneynews</td>\n",
       "      <td>b</td>\n",
       "      <td>ddUyU0VZz0BRneMioxUPQVP6sIxvM</td>\n",
       "      <td>www.moneynews.com</td>\n",
       "      <td>1394470372027</td>\n",
       "    </tr>\n",
       "    <tr>\n",
       "      <th>...</th>\n",
       "      <td>...</td>\n",
       "      <td>...</td>\n",
       "      <td>...</td>\n",
       "      <td>...</td>\n",
       "      <td>...</td>\n",
       "      <td>...</td>\n",
       "      <td>...</td>\n",
       "      <td>...</td>\n",
       "    </tr>\n",
       "    <tr>\n",
       "      <th>422414</th>\n",
       "      <td>422933</td>\n",
       "      <td>Surgeons to remove 4-year-old's rib to rebuild...</td>\n",
       "      <td>http://www.cbs3springfield.com/story/26378648/...</td>\n",
       "      <td>WSHM-TV</td>\n",
       "      <td>m</td>\n",
       "      <td>dpcLMoJD69UYMXMxaoEFnWql9YjQM</td>\n",
       "      <td>www.cbs3springfield.com</td>\n",
       "      <td>1409229190251</td>\n",
       "    </tr>\n",
       "    <tr>\n",
       "      <th>422415</th>\n",
       "      <td>422934</td>\n",
       "      <td>Boy to have surgery on esophagus after battery...</td>\n",
       "      <td>http://www.wlwt.com/news/boy-to-have-surgery-o...</td>\n",
       "      <td>WLWT Cincinnati</td>\n",
       "      <td>m</td>\n",
       "      <td>dpcLMoJD69UYMXMxaoEFnWql9YjQM</td>\n",
       "      <td>www.wlwt.com</td>\n",
       "      <td>1409229190508</td>\n",
       "    </tr>\n",
       "    <tr>\n",
       "      <th>422416</th>\n",
       "      <td>422935</td>\n",
       "      <td>Child who swallowed battery to have reconstruc...</td>\n",
       "      <td>http://www.newsnet5.com/news/local-news/child-...</td>\n",
       "      <td>NewsNet5.com</td>\n",
       "      <td>m</td>\n",
       "      <td>dpcLMoJD69UYMXMxaoEFnWql9YjQM</td>\n",
       "      <td>www.newsnet5.com</td>\n",
       "      <td>1409229190771</td>\n",
       "    </tr>\n",
       "    <tr>\n",
       "      <th>422417</th>\n",
       "      <td>422936</td>\n",
       "      <td>Phoenix boy undergoes surgery to repair throat...</td>\n",
       "      <td>http://www.wfsb.com/story/26368078/phoenix-boy...</td>\n",
       "      <td>WFSB</td>\n",
       "      <td>m</td>\n",
       "      <td>dpcLMoJD69UYMXMxaoEFnWql9YjQM</td>\n",
       "      <td>www.wfsb.com</td>\n",
       "      <td>1409229191071</td>\n",
       "    </tr>\n",
       "    <tr>\n",
       "      <th>422418</th>\n",
       "      <td>422937</td>\n",
       "      <td>Phoenix boy undergoes surgery to repair throat...</td>\n",
       "      <td>http://www.cbs3springfield.com/story/26368078/...</td>\n",
       "      <td>WSHM-TV</td>\n",
       "      <td>m</td>\n",
       "      <td>dpcLMoJD69UYMXMxaoEFnWql9YjQM</td>\n",
       "      <td>www.cbs3springfield.com</td>\n",
       "      <td>1409229191565</td>\n",
       "    </tr>\n",
       "  </tbody>\n",
       "</table>\n",
       "<p>422419 rows × 8 columns</p>\n",
       "</div>"
      ],
      "text/plain": [
       "            ID                                              TITLE  \\\n",
       "0            1  Fed official says weak data caused by weather,...   \n",
       "1            2  Fed's Charles Plosser sees high bar for change...   \n",
       "2            3  US open: Stocks fall after Fed official hints ...   \n",
       "3            4  Fed risks falling 'behind the curve', Charles ...   \n",
       "4            5  Fed's Plosser: Nasty Weather Has Curbed Job Gr...   \n",
       "...        ...                                                ...   \n",
       "422414  422933  Surgeons to remove 4-year-old's rib to rebuild...   \n",
       "422415  422934  Boy to have surgery on esophagus after battery...   \n",
       "422416  422935  Child who swallowed battery to have reconstruc...   \n",
       "422417  422936  Phoenix boy undergoes surgery to repair throat...   \n",
       "422418  422937  Phoenix boy undergoes surgery to repair throat...   \n",
       "\n",
       "                                                      URL          PUBLISHER  \\\n",
       "0       http://www.latimes.com/business/money/la-fi-mo...  Los Angeles Times   \n",
       "1       http://www.livemint.com/Politics/H2EvwJSK2VE6O...           Livemint   \n",
       "2       http://www.ifamagazine.com/news/us-open-stocks...       IFA Magazine   \n",
       "3       http://www.ifamagazine.com/news/fed-risks-fall...       IFA Magazine   \n",
       "4       http://www.moneynews.com/Economy/federal-reser...          Moneynews   \n",
       "...                                                   ...                ...   \n",
       "422414  http://www.cbs3springfield.com/story/26378648/...            WSHM-TV   \n",
       "422415  http://www.wlwt.com/news/boy-to-have-surgery-o...    WLWT Cincinnati   \n",
       "422416  http://www.newsnet5.com/news/local-news/child-...       NewsNet5.com   \n",
       "422417  http://www.wfsb.com/story/26368078/phoenix-boy...               WFSB   \n",
       "422418  http://www.cbs3springfield.com/story/26368078/...            WSHM-TV   \n",
       "\n",
       "       CATEGORY                          STORY                 HOSTNAME  \\\n",
       "0             b  ddUyU0VZz0BRneMioxUPQVP6sIxvM          www.latimes.com   \n",
       "1             b  ddUyU0VZz0BRneMioxUPQVP6sIxvM         www.livemint.com   \n",
       "2             b  ddUyU0VZz0BRneMioxUPQVP6sIxvM      www.ifamagazine.com   \n",
       "3             b  ddUyU0VZz0BRneMioxUPQVP6sIxvM      www.ifamagazine.com   \n",
       "4             b  ddUyU0VZz0BRneMioxUPQVP6sIxvM        www.moneynews.com   \n",
       "...         ...                            ...                      ...   \n",
       "422414        m  dpcLMoJD69UYMXMxaoEFnWql9YjQM  www.cbs3springfield.com   \n",
       "422415        m  dpcLMoJD69UYMXMxaoEFnWql9YjQM             www.wlwt.com   \n",
       "422416        m  dpcLMoJD69UYMXMxaoEFnWql9YjQM         www.newsnet5.com   \n",
       "422417        m  dpcLMoJD69UYMXMxaoEFnWql9YjQM             www.wfsb.com   \n",
       "422418        m  dpcLMoJD69UYMXMxaoEFnWql9YjQM  www.cbs3springfield.com   \n",
       "\n",
       "            TIMESTAMP  \n",
       "0       1394470370698  \n",
       "1       1394470371207  \n",
       "2       1394470371550  \n",
       "3       1394470371793  \n",
       "4       1394470372027  \n",
       "...               ...  \n",
       "422414  1409229190251  \n",
       "422415  1409229190508  \n",
       "422416  1409229190771  \n",
       "422417  1409229191071  \n",
       "422418  1409229191565  \n",
       "\n",
       "[422419 rows x 8 columns]"
      ]
     },
     "execution_count": 3,
     "metadata": {},
     "output_type": "execute_result"
    }
   ],
   "source": [
    "news_dataset"
   ]
  },
  {
   "cell_type": "code",
   "execution_count": 4,
   "metadata": {},
   "outputs": [
    {
     "data": {
      "text/plain": [
       "['b', 't', 'e', 'm']"
      ]
     },
     "execution_count": 4,
     "metadata": {},
     "output_type": "execute_result"
    }
   ],
   "source": [
    "# Find all category\n",
    "category = list(news_dataset['CATEGORY'].unique())\n",
    "category"
   ]
  },
  {
   "cell_type": "code",
   "execution_count": 5,
   "metadata": {},
   "outputs": [
    {
     "data": {
      "image/png": "[encoded data removed]",
      "text/plain": [
       "<Figure size 432x288 with 1 Axes>"
      ]
     },
     "metadata": {
      "needs_background": "light"
     },
     "output_type": "display_data"
    }
   ],
   "source": [
    "news_dataset['CATEGORY'].value_counts().plot(kind='barh')\n",
    "plt.show()"
   ]
  },
  {
   "cell_type": "code",
   "execution_count": 6,
   "metadata": {},
   "outputs": [
    {
     "data": {
      "text/plain": [
       "ID           0\n",
       "TITLE        0\n",
       "URL          0\n",
       "PUBLISHER    2\n",
       "CATEGORY     0\n",
       "STORY        0\n",
       "HOSTNAME     0\n",
       "TIMESTAMP    0\n",
       "dtype: int64"
      ]
     },
     "execution_count": 6,
     "metadata": {},
     "output_type": "execute_result"
    }
   ],
   "source": [
    "# Check null values\n",
    "news_dataset.isnull().sum()"
   ]
  },
  {
   "cell_type": "markdown",
   "metadata": {},
   "source": [
    "### Text Preprocessing"
   ]
  },
  {
   "cell_type": "code",
   "execution_count": 7,
   "metadata": {},
   "outputs": [],
   "source": [
    "# Text preprocessing\n",
    "def preprocess(text):\n",
    "    \n",
    "    \"\"\"\n",
    "    Function: split text into words and return the root form of the words\n",
    "    Args:\n",
    "      text(str): the article\n",
    "    Return:\n",
    "      lem(list of str): a list of the root form of the article words\n",
    "    \"\"\"\n",
    "        \n",
    "    # Normalize text\n",
    "    text = re.sub(r\"[^a-zA-Z]\", \" \", str(text).lower())\n",
    "    \n",
    "    # Tokenize text\n",
    "    token = word_tokenize(text)\n",
    "    \n",
    "    # Remove stop words\n",
    "    stop = stopwords.words(\"english\")\n",
    "    words = [t for t in token if t not in stop]\n",
    "    \n",
    "    # Lemmatization\n",
    "    lem = [WordNetLemmatizer().lemmatize(w) for w in words]\n",
    "    \n",
    "    return lem"
   ]
  },
  {
   "cell_type": "code",
   "execution_count": 8,
   "metadata": {},
   "outputs": [
    {
     "data": {
      "text/html": [
       "<div>\n",
       "<style scoped>\n",
       "    .dataframe tbody tr th:only-of-type {\n",
       "        vertical-align: middle;\n",
       "    }\n",
       "\n",
       "    .dataframe tbody tr th {\n",
       "        vertical-align: top;\n",
       "    }\n",
       "\n",
       "    .dataframe thead th {\n",
       "        text-align: right;\n",
       "    }\n",
       "</style>\n",
       "<table border=\"1\" class=\"dataframe\">\n",
       "  <thead>\n",
       "    <tr style=\"text-align: right;\">\n",
       "      <th></th>\n",
       "      <th>ID</th>\n",
       "      <th>TITLE</th>\n",
       "      <th>URL</th>\n",
       "      <th>PUBLISHER</th>\n",
       "      <th>CATEGORY</th>\n",
       "      <th>STORY</th>\n",
       "      <th>HOSTNAME</th>\n",
       "      <th>TIMESTAMP</th>\n",
       "      <th>Preprocessed_Title</th>\n",
       "    </tr>\n",
       "  </thead>\n",
       "  <tbody>\n",
       "    <tr>\n",
       "      <th>0</th>\n",
       "      <td>1</td>\n",
       "      <td>Fed official says weak data caused by weather,...</td>\n",
       "      <td>http://www.latimes.com/business/money/la-fi-mo...</td>\n",
       "      <td>Los Angeles Times</td>\n",
       "      <td>b</td>\n",
       "      <td>ddUyU0VZz0BRneMioxUPQVP6sIxvM</td>\n",
       "      <td>www.latimes.com</td>\n",
       "      <td>1394470370698</td>\n",
       "      <td>[fed, official, say, weak, data, caused, weath...</td>\n",
       "    </tr>\n",
       "    <tr>\n",
       "      <th>1</th>\n",
       "      <td>2</td>\n",
       "      <td>Fed's Charles Plosser sees high bar for change...</td>\n",
       "      <td>http://www.livemint.com/Politics/H2EvwJSK2VE6O...</td>\n",
       "      <td>Livemint</td>\n",
       "      <td>b</td>\n",
       "      <td>ddUyU0VZz0BRneMioxUPQVP6sIxvM</td>\n",
       "      <td>www.livemint.com</td>\n",
       "      <td>1394470371207</td>\n",
       "      <td>[fed, charles, plosser, see, high, bar, change...</td>\n",
       "    </tr>\n",
       "    <tr>\n",
       "      <th>2</th>\n",
       "      <td>3</td>\n",
       "      <td>US open: Stocks fall after Fed official hints ...</td>\n",
       "      <td>http://www.ifamagazine.com/news/us-open-stocks...</td>\n",
       "      <td>IFA Magazine</td>\n",
       "      <td>b</td>\n",
       "      <td>ddUyU0VZz0BRneMioxUPQVP6sIxvM</td>\n",
       "      <td>www.ifamagazine.com</td>\n",
       "      <td>1394470371550</td>\n",
       "      <td>[u, open, stock, fall, fed, official, hint, ac...</td>\n",
       "    </tr>\n",
       "    <tr>\n",
       "      <th>3</th>\n",
       "      <td>4</td>\n",
       "      <td>Fed risks falling 'behind the curve', Charles ...</td>\n",
       "      <td>http://www.ifamagazine.com/news/fed-risks-fall...</td>\n",
       "      <td>IFA Magazine</td>\n",
       "      <td>b</td>\n",
       "      <td>ddUyU0VZz0BRneMioxUPQVP6sIxvM</td>\n",
       "      <td>www.ifamagazine.com</td>\n",
       "      <td>1394470371793</td>\n",
       "      <td>[fed, risk, falling, behind, curve, charles, p...</td>\n",
       "    </tr>\n",
       "    <tr>\n",
       "      <th>4</th>\n",
       "      <td>5</td>\n",
       "      <td>Fed's Plosser: Nasty Weather Has Curbed Job Gr...</td>\n",
       "      <td>http://www.moneynews.com/Economy/federal-reser...</td>\n",
       "      <td>Moneynews</td>\n",
       "      <td>b</td>\n",
       "      <td>ddUyU0VZz0BRneMioxUPQVP6sIxvM</td>\n",
       "      <td>www.moneynews.com</td>\n",
       "      <td>1394470372027</td>\n",
       "      <td>[fed, plosser, nasty, weather, curbed, job, gr...</td>\n",
       "    </tr>\n",
       "    <tr>\n",
       "      <th>5</th>\n",
       "      <td>6</td>\n",
       "      <td>Plosser: Fed May Have to Accelerate Tapering Pace</td>\n",
       "      <td>http://www.nasdaq.com/article/plosser-fed-may-...</td>\n",
       "      <td>NASDAQ</td>\n",
       "      <td>b</td>\n",
       "      <td>ddUyU0VZz0BRneMioxUPQVP6sIxvM</td>\n",
       "      <td>www.nasdaq.com</td>\n",
       "      <td>1394470372212</td>\n",
       "      <td>[plosser, fed, may, accelerate, tapering, pace]</td>\n",
       "    </tr>\n",
       "    <tr>\n",
       "      <th>6</th>\n",
       "      <td>7</td>\n",
       "      <td>Fed's Plosser: Taper pace may be too slow</td>\n",
       "      <td>http://www.marketwatch.com/story/feds-plosser-...</td>\n",
       "      <td>MarketWatch</td>\n",
       "      <td>b</td>\n",
       "      <td>ddUyU0VZz0BRneMioxUPQVP6sIxvM</td>\n",
       "      <td>www.marketwatch.com</td>\n",
       "      <td>1394470372405</td>\n",
       "      <td>[fed, plosser, taper, pace, may, slow]</td>\n",
       "    </tr>\n",
       "    <tr>\n",
       "      <th>7</th>\n",
       "      <td>8</td>\n",
       "      <td>Fed's Plosser expects US unemployment to fall ...</td>\n",
       "      <td>http://www.fxstreet.com/news/forex-news/articl...</td>\n",
       "      <td>FXstreet.com</td>\n",
       "      <td>b</td>\n",
       "      <td>ddUyU0VZz0BRneMioxUPQVP6sIxvM</td>\n",
       "      <td>www.fxstreet.com</td>\n",
       "      <td>1394470372615</td>\n",
       "      <td>[fed, plosser, expects, u, unemployment, fall,...</td>\n",
       "    </tr>\n",
       "    <tr>\n",
       "      <th>8</th>\n",
       "      <td>9</td>\n",
       "      <td>US jobs growth last month hit by weather:Fed P...</td>\n",
       "      <td>http://economictimes.indiatimes.com/news/inter...</td>\n",
       "      <td>Economic Times</td>\n",
       "      <td>b</td>\n",
       "      <td>ddUyU0VZz0BRneMioxUPQVP6sIxvM</td>\n",
       "      <td>economictimes.indiatimes.com</td>\n",
       "      <td>1394470372792</td>\n",
       "      <td>[u, job, growth, last, month, hit, weather, fe...</td>\n",
       "    </tr>\n",
       "    <tr>\n",
       "      <th>9</th>\n",
       "      <td>10</td>\n",
       "      <td>ECB unlikely to end sterilisation of SMP purch...</td>\n",
       "      <td>http://www.iii.co.uk/news-opinion/reuters/news...</td>\n",
       "      <td>Interactive Investor</td>\n",
       "      <td>b</td>\n",
       "      <td>dPhGU51DcrolUIMxbRm0InaHGA2XM</td>\n",
       "      <td>www.iii.co.uk</td>\n",
       "      <td>1394470501265</td>\n",
       "      <td>[ecb, unlikely, end, sterilisation, smp, purch...</td>\n",
       "    </tr>\n",
       "  </tbody>\n",
       "</table>\n",
       "</div>"
      ],
      "text/plain": [
       "   ID                                              TITLE  \\\n",
       "0   1  Fed official says weak data caused by weather,...   \n",
       "1   2  Fed's Charles Plosser sees high bar for change...   \n",
       "2   3  US open: Stocks fall after Fed official hints ...   \n",
       "3   4  Fed risks falling 'behind the curve', Charles ...   \n",
       "4   5  Fed's Plosser: Nasty Weather Has Curbed Job Gr...   \n",
       "5   6  Plosser: Fed May Have to Accelerate Tapering Pace   \n",
       "6   7          Fed's Plosser: Taper pace may be too slow   \n",
       "7   8  Fed's Plosser expects US unemployment to fall ...   \n",
       "8   9  US jobs growth last month hit by weather:Fed P...   \n",
       "9  10  ECB unlikely to end sterilisation of SMP purch...   \n",
       "\n",
       "                                                 URL             PUBLISHER  \\\n",
       "0  http://www.latimes.com/business/money/la-fi-mo...     Los Angeles Times   \n",
       "1  http://www.livemint.com/Politics/H2EvwJSK2VE6O...              Livemint   \n",
       "2  http://www.ifamagazine.com/news/us-open-stocks...          IFA Magazine   \n",
       "3  http://www.ifamagazine.com/news/fed-risks-fall...          IFA Magazine   \n",
       "4  http://www.moneynews.com/Economy/federal-reser...             Moneynews   \n",
       "5  http://www.nasdaq.com/article/plosser-fed-may-...                NASDAQ   \n",
       "6  http://www.marketwatch.com/story/feds-plosser-...           MarketWatch   \n",
       "7  http://www.fxstreet.com/news/forex-news/articl...          FXstreet.com   \n",
       "8  http://economictimes.indiatimes.com/news/inter...        Economic Times   \n",
       "9  http://www.iii.co.uk/news-opinion/reuters/news...  Interactive Investor   \n",
       "\n",
       "  CATEGORY                          STORY                      HOSTNAME  \\\n",
       "0        b  ddUyU0VZz0BRneMioxUPQVP6sIxvM               www.latimes.com   \n",
       "1        b  ddUyU0VZz0BRneMioxUPQVP6sIxvM              www.livemint.com   \n",
       "2        b  ddUyU0VZz0BRneMioxUPQVP6sIxvM           www.ifamagazine.com   \n",
       "3        b  ddUyU0VZz0BRneMioxUPQVP6sIxvM           www.ifamagazine.com   \n",
       "4        b  ddUyU0VZz0BRneMioxUPQVP6sIxvM             www.moneynews.com   \n",
       "5        b  ddUyU0VZz0BRneMioxUPQVP6sIxvM                www.nasdaq.com   \n",
       "6        b  ddUyU0VZz0BRneMioxUPQVP6sIxvM           www.marketwatch.com   \n",
       "7        b  ddUyU0VZz0BRneMioxUPQVP6sIxvM              www.fxstreet.com   \n",
       "8        b  ddUyU0VZz0BRneMioxUPQVP6sIxvM  economictimes.indiatimes.com   \n",
       "9        b  dPhGU51DcrolUIMxbRm0InaHGA2XM                 www.iii.co.uk   \n",
       "\n",
       "       TIMESTAMP                                 Preprocessed_Title  \n",
       "0  1394470370698  [fed, official, say, weak, data, caused, weath...  \n",
       "1  1394470371207  [fed, charles, plosser, see, high, bar, change...  \n",
       "2  1394470371550  [u, open, stock, fall, fed, official, hint, ac...  \n",
       "3  1394470371793  [fed, risk, falling, behind, curve, charles, p...  \n",
       "4  1394470372027  [fed, plosser, nasty, weather, curbed, job, gr...  \n",
       "5  1394470372212    [plosser, fed, may, accelerate, tapering, pace]  \n",
       "6  1394470372405             [fed, plosser, taper, pace, may, slow]  \n",
       "7  1394470372615  [fed, plosser, expects, u, unemployment, fall,...  \n",
       "8  1394470372792  [u, job, growth, last, month, hit, weather, fe...  \n",
       "9  1394470501265  [ecb, unlikely, end, sterilisation, smp, purch...  "
      ]
     },
     "execution_count": 8,
     "metadata": {},
     "output_type": "execute_result"
    }
   ],
   "source": [
    "news_dataset[\"Preprocessed_Title\"] = news_dataset['TITLE'].apply(lambda x: preprocess(x))\n",
    "news_dataset.head(10)"
   ]
  },
  {
   "cell_type": "markdown",
   "metadata": {},
   "source": [
    "### Text Exploration"
   ]
  },
  {
   "cell_type": "code",
   "execution_count": 9,
   "metadata": {},
   "outputs": [],
   "source": [
    "# Find the common words in each category\n",
    "def find_common_words(df, category):\n",
    "        \n",
    "    \"\"\"\n",
    "    Function: find the most frequent words in the category and return the them\n",
    "    Args:\n",
    "      df(dataframe): the dataframe of articles\n",
    "      category(str): the category name\n",
    "    Return:\n",
    "      the most frequant words in the category\n",
    "    \"\"\"\n",
    "        \n",
    "    # Create dataframes for the category\n",
    "   # cat_df = df[df[\"category\"]==category]\n",
    "    \n",
    "    # Initialize words list for the category\n",
    "    words = [word for tokens in df[\"Preprocessed_Title\"] for word in tokens]\n",
    "    \n",
    "    # Count words frequency\n",
    "    words_counter = Counter(words)\n",
    " \n",
    "    return words_counter.most_common(10)"
   ]
  },
  {
   "cell_type": "code",
   "execution_count": 10,
   "metadata": {},
   "outputs": [
    {
     "name": "stdout",
     "output_type": "stream",
     "text": [
      "Most common words in each category\n",
      "b  News\n",
      "[('new', 24461), ('u', 20453), ('google', 12545), ('say', 10944), ('apple', 10473), ('video', 10155), ('star', 8549), ('first', 8446), ('report', 8331), ('samsung', 8284)]\n",
      "\n",
      "t  News\n",
      "[('new', 24461), ('u', 20453), ('google', 12545), ('say', 10944), ('apple', 10473), ('video', 10155), ('star', 8549), ('first', 8446), ('report', 8331), ('samsung', 8284)]\n",
      "\n",
      "e  News\n",
      "[('new', 24461), ('u', 20453), ('google', 12545), ('say', 10944), ('apple', 10473), ('video', 10155), ('star', 8549), ('first', 8446), ('report', 8331), ('samsung', 8284)]\n",
      "\n",
      "m  News\n",
      "[('new', 24461), ('u', 20453), ('google', 12545), ('say', 10944), ('apple', 10473), ('video', 10155), ('star', 8549), ('first', 8446), ('report', 8331), ('samsung', 8284)]\n",
      "\n"
     ]
    }
   ],
   "source": [
    "print(\"Most common words in each category\")\n",
    "for c in category:\n",
    "    print(c, \" News\")\n",
    "    print(find_common_words(news_dataset, c))\n",
    "    print()"
   ]
  },
  {
   "cell_type": "code",
   "execution_count": 11,
   "metadata": {},
   "outputs": [
    {
     "data": {
      "text/html": [
       "<div>\n",
       "<style scoped>\n",
       "    .dataframe tbody tr th:only-of-type {\n",
       "        vertical-align: middle;\n",
       "    }\n",
       "\n",
       "    .dataframe tbody tr th {\n",
       "        vertical-align: top;\n",
       "    }\n",
       "\n",
       "    .dataframe thead th {\n",
       "        text-align: right;\n",
       "    }\n",
       "</style>\n",
       "<table border=\"1\" class=\"dataframe\">\n",
       "  <thead>\n",
       "    <tr style=\"text-align: right;\">\n",
       "      <th></th>\n",
       "      <th>ID</th>\n",
       "      <th>TITLE</th>\n",
       "      <th>URL</th>\n",
       "      <th>PUBLISHER</th>\n",
       "      <th>CATEGORY</th>\n",
       "      <th>STORY</th>\n",
       "      <th>HOSTNAME</th>\n",
       "      <th>TIMESTAMP</th>\n",
       "      <th>Preprocessed_Title</th>\n",
       "      <th>Preprocessed_Title1</th>\n",
       "    </tr>\n",
       "  </thead>\n",
       "  <tbody>\n",
       "    <tr>\n",
       "      <th>0</th>\n",
       "      <td>1</td>\n",
       "      <td>Fed official says weak data caused by weather,...</td>\n",
       "      <td>http://www.latimes.com/business/money/la-fi-mo...</td>\n",
       "      <td>Los Angeles Times</td>\n",
       "      <td>b</td>\n",
       "      <td>ddUyU0VZz0BRneMioxUPQVP6sIxvM</td>\n",
       "      <td>www.latimes.com</td>\n",
       "      <td>1394470370698</td>\n",
       "      <td>[fed, official, say, weak, data, caused, weath...</td>\n",
       "      <td>fed official say weak data caused weather slow...</td>\n",
       "    </tr>\n",
       "    <tr>\n",
       "      <th>1</th>\n",
       "      <td>2</td>\n",
       "      <td>Fed's Charles Plosser sees high bar for change...</td>\n",
       "      <td>http://www.livemint.com/Politics/H2EvwJSK2VE6O...</td>\n",
       "      <td>Livemint</td>\n",
       "      <td>b</td>\n",
       "      <td>ddUyU0VZz0BRneMioxUPQVP6sIxvM</td>\n",
       "      <td>www.livemint.com</td>\n",
       "      <td>1394470371207</td>\n",
       "      <td>[fed, charles, plosser, see, high, bar, change...</td>\n",
       "      <td>fed charles plosser see high bar change pace t...</td>\n",
       "    </tr>\n",
       "    <tr>\n",
       "      <th>2</th>\n",
       "      <td>3</td>\n",
       "      <td>US open: Stocks fall after Fed official hints ...</td>\n",
       "      <td>http://www.ifamagazine.com/news/us-open-stocks...</td>\n",
       "      <td>IFA Magazine</td>\n",
       "      <td>b</td>\n",
       "      <td>ddUyU0VZz0BRneMioxUPQVP6sIxvM</td>\n",
       "      <td>www.ifamagazine.com</td>\n",
       "      <td>1394470371550</td>\n",
       "      <td>[u, open, stock, fall, fed, official, hint, ac...</td>\n",
       "      <td>u open stock fall fed official hint accelerate...</td>\n",
       "    </tr>\n",
       "    <tr>\n",
       "      <th>3</th>\n",
       "      <td>4</td>\n",
       "      <td>Fed risks falling 'behind the curve', Charles ...</td>\n",
       "      <td>http://www.ifamagazine.com/news/fed-risks-fall...</td>\n",
       "      <td>IFA Magazine</td>\n",
       "      <td>b</td>\n",
       "      <td>ddUyU0VZz0BRneMioxUPQVP6sIxvM</td>\n",
       "      <td>www.ifamagazine.com</td>\n",
       "      <td>1394470371793</td>\n",
       "      <td>[fed, risk, falling, behind, curve, charles, p...</td>\n",
       "      <td>fed risk falling behind curve charles plosser say</td>\n",
       "    </tr>\n",
       "    <tr>\n",
       "      <th>4</th>\n",
       "      <td>5</td>\n",
       "      <td>Fed's Plosser: Nasty Weather Has Curbed Job Gr...</td>\n",
       "      <td>http://www.moneynews.com/Economy/federal-reser...</td>\n",
       "      <td>Moneynews</td>\n",
       "      <td>b</td>\n",
       "      <td>ddUyU0VZz0BRneMioxUPQVP6sIxvM</td>\n",
       "      <td>www.moneynews.com</td>\n",
       "      <td>1394470372027</td>\n",
       "      <td>[fed, plosser, nasty, weather, curbed, job, gr...</td>\n",
       "      <td>fed plosser nasty weather curbed job growth</td>\n",
       "    </tr>\n",
       "  </tbody>\n",
       "</table>\n",
       "</div>"
      ],
      "text/plain": [
       "   ID                                              TITLE  \\\n",
       "0   1  Fed official says weak data caused by weather,...   \n",
       "1   2  Fed's Charles Plosser sees high bar for change...   \n",
       "2   3  US open: Stocks fall after Fed official hints ...   \n",
       "3   4  Fed risks falling 'behind the curve', Charles ...   \n",
       "4   5  Fed's Plosser: Nasty Weather Has Curbed Job Gr...   \n",
       "\n",
       "                                                 URL          PUBLISHER  \\\n",
       "0  http://www.latimes.com/business/money/la-fi-mo...  Los Angeles Times   \n",
       "1  http://www.livemint.com/Politics/H2EvwJSK2VE6O...           Livemint   \n",
       "2  http://www.ifamagazine.com/news/us-open-stocks...       IFA Magazine   \n",
       "3  http://www.ifamagazine.com/news/fed-risks-fall...       IFA Magazine   \n",
       "4  http://www.moneynews.com/Economy/federal-reser...          Moneynews   \n",
       "\n",
       "  CATEGORY                          STORY             HOSTNAME      TIMESTAMP  \\\n",
       "0        b  ddUyU0VZz0BRneMioxUPQVP6sIxvM      www.latimes.com  1394470370698   \n",
       "1        b  ddUyU0VZz0BRneMioxUPQVP6sIxvM     www.livemint.com  1394470371207   \n",
       "2        b  ddUyU0VZz0BRneMioxUPQVP6sIxvM  www.ifamagazine.com  1394470371550   \n",
       "3        b  ddUyU0VZz0BRneMioxUPQVP6sIxvM  www.ifamagazine.com  1394470371793   \n",
       "4        b  ddUyU0VZz0BRneMioxUPQVP6sIxvM    www.moneynews.com  1394470372027   \n",
       "\n",
       "                                  Preprocessed_Title  \\\n",
       "0  [fed, official, say, weak, data, caused, weath...   \n",
       "1  [fed, charles, plosser, see, high, bar, change...   \n",
       "2  [u, open, stock, fall, fed, official, hint, ac...   \n",
       "3  [fed, risk, falling, behind, curve, charles, p...   \n",
       "4  [fed, plosser, nasty, weather, curbed, job, gr...   \n",
       "\n",
       "                                 Preprocessed_Title1  \n",
       "0  fed official say weak data caused weather slow...  \n",
       "1  fed charles plosser see high bar change pace t...  \n",
       "2  u open stock fall fed official hint accelerate...  \n",
       "3  fed risk falling behind curve charles plosser say  \n",
       "4        fed plosser nasty weather curbed job growth  "
      ]
     },
     "execution_count": 11,
     "metadata": {},
     "output_type": "execute_result"
    }
   ],
   "source": [
    "news_dataset['Preprocessed_Title1'] = news_dataset['Preprocessed_Title'].apply(' '.join)\n",
    "news_dataset.head()"
   ]
  },
  {
   "cell_type": "code",
   "execution_count": 12,
   "metadata": {},
   "outputs": [],
   "source": [
    "# Determine data and target\n",
    "X = news_dataset['Preprocessed_Title1']\n",
    "y = news_dataset['CATEGORY']"
   ]
  },
  {
   "cell_type": "markdown",
   "metadata": {},
   "source": [
    "### Feature Extraction¶\n",
    " #### use TF-IDF method to extract the text features."
   ]
  },
  {
   "cell_type": "code",
   "execution_count": 13,
   "metadata": {},
   "outputs": [],
   "source": [
    "# Split data\n",
    "X_train, X_test, y_train, y_test = train_test_split(X, y, test_size = 0.2)"
   ]
  },
  {
   "cell_type": "code",
   "execution_count": 14,
   "metadata": {},
   "outputs": [],
   "source": [
    "# Use TF-IDF\n",
    "tf_vec = TfidfVectorizer()\n",
    "train_features = tf_vec.fit(X_train)\n",
    "train_features = tf_vec.transform(X_train)\n",
    "test_features = tf_vec.transform(X_test)"
   ]
  },
  {
   "cell_type": "markdown",
   "metadata": {},
   "source": [
    "### Modeling\n",
    "#### Use the below machine learning algorithms then I will select the best one based on its training time, accuracy score and f-beta scores.\n",
    "\n",
    "#### *Decision Tree\n",
    "#### *Multinomial Naive Bayes"
   ]
  },
  {
   "cell_type": "code",
   "execution_count": 15,
   "metadata": {},
   "outputs": [],
   "source": [
    "# Train and evaluate model\n",
    "def fit_eval_model(model, train_features, y_train, test_features, y_test):\n",
    "    \n",
    "    \"\"\"\n",
    "    Function: train and evaluate a machine learning classifier.\n",
    "    Args:\n",
    "      model: machine learning classifier\n",
    "      train_features: train data extracted features\n",
    "      y_train: train data lables\n",
    "      test_features: train data extracted features\n",
    "      y_test: train data lables\n",
    "    Return:\n",
    "      results(dictionary): a dictionary of the model training time and classification report\n",
    "    \"\"\"\n",
    "    results ={}\n",
    "    \n",
    "    # Start time\n",
    "    start = time.time()\n",
    "    # Train the model\n",
    "    model.fit(train_features, y_train)\n",
    "    # End time\n",
    "    end = time.time()\n",
    "    # Calculate the training time\n",
    "    results['train_time'] = end - start\n",
    "    \n",
    "    # Test the model\n",
    "    train_predicted = model.predict(train_features)\n",
    "    test_predicted = model.predict(test_features)\n",
    "    \n",
    "     # Classification report\n",
    "    results['classification_report'] = classification_report(y_test, test_predicted)\n",
    "        \n",
    "    return results"
   ]
  },
  {
   "cell_type": "code",
   "execution_count": 16,
   "metadata": {},
   "outputs": [],
   "source": [
    "# Initialize the models\n",
    "tree = DecisionTreeClassifier()\n",
    "nb = MultinomialNB()\n",
    "\n",
    "\n",
    "# Fit and evaluate models\n",
    "results = {}\n",
    "for cls in [tree,nb]:\n",
    "    cls_name = cls.__class__.__name__\n",
    "    results[cls_name] = {}\n",
    "    results[cls_name] = fit_eval_model(cls, train_features, y_train, test_features, y_test)"
   ]
  },
  {
   "cell_type": "code",
   "execution_count": 17,
   "metadata": {},
   "outputs": [
    {
     "name": "stdout",
     "output_type": "stream",
     "text": [
      "DecisionTreeClassifier\n",
      "\n",
      "train_time :\n",
      "213.74901413917542\n",
      "\n",
      "classification_report :\n",
      "              precision    recall  f1-score   support\n",
      "\n",
      "           b       0.88      0.90      0.89     23258\n",
      "           e       0.94      0.95      0.95     30328\n",
      "           m       0.90      0.87      0.88      9239\n",
      "           t       0.91      0.89      0.90     21659\n",
      "\n",
      "    accuracy                           0.91     84484\n",
      "   macro avg       0.91      0.90      0.90     84484\n",
      "weighted avg       0.91      0.91      0.91     84484\n",
      "\n",
      "\n",
      "-----\n",
      "\n",
      "MultinomialNB\n",
      "\n",
      "train_time :\n",
      "1.3894076347351074\n",
      "\n",
      "classification_report :\n",
      "              precision    recall  f1-score   support\n",
      "\n",
      "           b       0.90      0.91      0.90     23258\n",
      "           e       0.95      0.97      0.96     30328\n",
      "           m       0.96      0.86      0.91      9239\n",
      "           t       0.90      0.90      0.90     21659\n",
      "\n",
      "    accuracy                           0.92     84484\n",
      "   macro avg       0.93      0.91      0.92     84484\n",
      "weighted avg       0.92      0.92      0.92     84484\n",
      "\n",
      "\n",
      "-----\n",
      "\n"
     ]
    }
   ],
   "source": [
    "# Print classifiers results\n",
    "for res in results:\n",
    "    print (res)\n",
    "    print()\n",
    "    for i in results[res]:\n",
    "        print (i, ':')\n",
    "        print(results[res][i])\n",
    "        print()\n",
    "    print ('-----')\n",
    "    print()"
   ]
  },
  {
   "cell_type": "markdown",
   "metadata": {},
   "source": [
    "### Note: From the testing results, we can see that MultinomialNB classifier is the fastest and most accurate classifier."
   ]
  },
  {
   "cell_type": "markdown",
   "metadata": {},
   "source": [
    "## Use the Model"
   ]
  },
  {
   "cell_type": "markdown",
   "metadata": {},
   "source": [
    "### Now,  use the built MultinomialNB model to classify new articles."
   ]
  },
  {
   "cell_type": "code",
   "execution_count": 20,
   "metadata": {},
   "outputs": [],
   "source": [
    "# Classify an article\n",
    "def classify_article(path):\n",
    "    \n",
    "    \"\"\"\n",
    "    Function: classify an article.\n",
    "    Args:\n",
    "      path: the path of the article \n",
    "    Return:\n",
    "      category (str): the category of the article\n",
    "    \"\"\"\n",
    "    # Read file\n",
    "    file = open(path, 'r',encoding='utf-8')\n",
    "    artcl = file.read()\n",
    "\n",
    "    # Text preprocessing\n",
    "    artcl = preprocess(artcl)\n",
    "    artcl = ' '.join(artcl)\n",
    "\n",
    "    # Use TF_IDF\n",
    "    test = tf_vec.transform([artcl])\n",
    "\n",
    "    # Use MultinomialNB model to classify the article\n",
    "    predict = nb.predict(test)\n",
    "    category = predict[0]\n",
    "\n",
    "    # Close file\n",
    "    file.close()\n",
    "\n",
    "    return category"
   ]
  },
  {
   "cell_type": "code",
   "execution_count": 21,
   "metadata": {},
   "outputs": [
    {
     "name": "stdout",
     "output_type": "stream",
     "text": [
      "b\n"
     ]
    }
   ],
   "source": [
    "print(classify_article('art1.txt'))"
   ]
  },
  {
   "cell_type": "code",
   "execution_count": 22,
   "metadata": {},
   "outputs": [
    {
     "name": "stdout",
     "output_type": "stream",
     "text": [
      "b\n"
     ]
    }
   ],
   "source": [
    "print(classify_article('art2.txt'))"
   ]
  },
  {
   "cell_type": "code",
   "execution_count": 23,
   "metadata": {},
   "outputs": [
    {
     "name": "stdout",
     "output_type": "stream",
     "text": [
      "b\n"
     ]
    }
   ],
   "source": [
    "print(classify_article('art3.txt'))"
   ]
  },
  {
   "cell_type": "code",
   "execution_count": 24,
   "metadata": {},
   "outputs": [
    {
     "name": "stdout",
     "output_type": "stream",
     "text": [
      "e\n"
     ]
    }
   ],
   "source": [
    "print(classify_article('art4.txt'))"
   ]
  },
  {
   "cell_type": "markdown",
   "metadata": {},
   "source": [
    "## Summary"
   ]
  },
  {
   "cell_type": "markdown",
   "metadata": {},
   "source": [
    "#### In this project,  used Kaggal  news dataset to classify the news topics. I used TF-IDF feature extraction algorithm and  different\n",
    "#### machine learning algorithms:  Decision Tree, Multinomial Naive Bayes. Multinomial Naive Bayes was the best model and then I  \n",
    "#### use it to classify new articles in order to check the model accuracy."
   ]
  },
  {
   "cell_type": "code",
   "execution_count": null,
   "metadata": {},
   "outputs": [],
   "source": []
  },
  {
   "cell_type": "code",
   "execution_count": null,
   "metadata": {},
   "outputs": [],
   "source": []
  }
 ],
 "metadata": {
  "kernelspec": {
   "display_name": "Python 3",
   "language": "python",
   "name": "python3"
  },
  "language_info": {
   "codemirror_mode": {
    "name": "ipython",
    "version": 3
   },
   "file_extension": ".py",
   "mimetype": "text/x-python",
   "name": "python",
   "nbconvert_exporter": "python",
   "pygments_lexer": "ipython3",
   "version": "3.7.6"
  }
 },
 "nbformat": 4,
 "nbformat_minor": 4
}
